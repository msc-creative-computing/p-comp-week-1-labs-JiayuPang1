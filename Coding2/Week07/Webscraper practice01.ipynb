{
 "cells": [
  {
   "cell_type": "markdown",
   "id": "a3f0c8fc",
   "metadata": {},
   "source": [
    "# Webscraper Practice\n",
    "## Hello, welcome to my first practice of Webscraper!"
   ]
  },
  {
   "cell_type": "markdown",
   "id": "b19aeb73",
   "metadata": {},
   "source": [
    "### · Lab 01"
   ]
  },
  {
   "cell_type": "code",
   "execution_count": 8,
   "id": "003da2a5",
   "metadata": {
    "scrolled": true
   },
   "outputs": [
    {
     "name": "stdout",
     "output_type": "stream",
     "text": [
      "/?hl=en&tab=TT\n",
      "https://www.google.co.uk/intl/en/about/products?tab=Th\n",
      "https://accounts.google.com/ServiceLogin?passive=1209600&continue=https://translate.google.com/&followup=https://translate.google.com/&ec=GAZAMw\n",
      "/?hl=en&tab=TT\n",
      "https://translate.google.com/about/?hl=en-US\n",
      "https://policies.google.com/?hl=en-US\n",
      "https://support.google.com/translate/?hl=en-US\n",
      "None\n",
      "https://www.google.com/about?hl=en-US\n",
      "https://support.google.com/translate?p=sensitive-disputed-content&hl=en_US\n",
      "https://support.google.com/translate?p=gendered_translations&hl=en_US\n",
      "https://support.google.com/translate?p=gendered_translations&hl=en_US\n",
      "https://support.google.com/translate/answer/2534559?ref_topic=7011659&hl=en_US\n",
      "https://cloud.google.com/translate?hl=en_US\n",
      "./history\n",
      "./saved\n",
      "./contribute\n"
     ]
    }
   ],
   "source": [
    "from bs4 import BeautifulSoup\n",
    "import urllib.request\n",
    "\n",
    "html = urllib.request.urlopen('https://translate.google.com/').read()\n",
    "\n",
    "soup = BeautifulSoup(html)\n",
    "\n",
    "# just get all the links. Links are 'a' (as in <a href = \"\">)\n",
    "\n",
    "for link in soup.find_all('a'):\n",
    "    print(link.get('href'))\n",
    "#<a href=\"http://www.baidu.com\"> This is a link</a>"
   ]
  },
  {
   "cell_type": "code",
   "execution_count": null,
   "id": "c6f4ee32",
   "metadata": {},
   "outputs": [],
   "source": []
  }
 ],
 "metadata": {
  "kernelspec": {
   "display_name": "Python 3 (ipykernel)",
   "language": "python",
   "name": "python3"
  },
  "language_info": {
   "codemirror_mode": {
    "name": "ipython",
    "version": 3
   },
   "file_extension": ".py",
   "mimetype": "text/x-python",
   "name": "python",
   "nbconvert_exporter": "python",
   "pygments_lexer": "ipython3",
   "version": "3.9.7"
  }
 },
 "nbformat": 4,
 "nbformat_minor": 5
}
